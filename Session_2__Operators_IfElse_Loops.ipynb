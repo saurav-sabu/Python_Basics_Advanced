{
  "nbformat": 4,
  "nbformat_minor": 0,
  "metadata": {
    "colab": {
      "provenance": []
    },
    "kernelspec": {
      "name": "python3",
      "display_name": "Python 3"
    },
    "language_info": {
      "name": "python"
    }
  },
  "cells": [
    {
      "cell_type": "markdown",
      "source": [
        "# Operators in Python\n",
        "\n",
        "- Arithmetic Operators\n",
        "- Relational Operators\n",
        "- Logical Operators\n",
        "- Bitwise Operators\n",
        "- Assignment Operators\n",
        "- Membership Operators"
      ],
      "metadata": {
        "id": "os_4w-eus3Ka"
      }
    },
    {
      "cell_type": "code",
      "source": [
        "# Arithmetic Operators\n",
        "print(3+2)\n",
        "\n",
        "print(3-2)\n",
        "\n",
        "print(3*2)\n",
        "\n",
        "print(3/2)\n",
        "\n",
        "print(3//2)\n",
        "\n",
        "print(3%2)\n",
        "\n",
        "print(3**2)"
      ],
      "metadata": {
        "colab": {
          "base_uri": "https://localhost:8080/"
        },
        "id": "-G2PW226s360",
        "outputId": "92027a61-e2e4-45d7-e31b-c17adbceab24"
      },
      "execution_count": null,
      "outputs": [
        {
          "output_type": "stream",
          "name": "stdout",
          "text": [
            "5\n",
            "1\n",
            "6\n",
            "1.5\n",
            "1\n",
            "1\n",
            "9\n"
          ]
        }
      ]
    },
    {
      "cell_type": "code",
      "source": [
        "# Relational Operators\n",
        "print(3 > 2)\n",
        "\n",
        "print(3 < 2)\n",
        "\n",
        "print(3 == 2)\n",
        "\n",
        "print(3 != 2)\n",
        "\n",
        "print(4 <= 4)\n"
      ],
      "metadata": {
        "colab": {
          "base_uri": "https://localhost:8080/"
        },
        "id": "VYZIpRYSvBm_",
        "outputId": "4e4489b8-9270-41bd-c6e6-bba3ccf8ac97"
      },
      "execution_count": null,
      "outputs": [
        {
          "output_type": "stream",
          "name": "stdout",
          "text": [
            "True\n",
            "False\n",
            "False\n",
            "True\n",
            "True\n"
          ]
        }
      ]
    },
    {
      "cell_type": "code",
      "source": [
        "# Logical Operators\n",
        "print(1 and 0)\n",
        "\n",
        "print(1 or 0)\n",
        "\n",
        "print(not 1)"
      ],
      "metadata": {
        "colab": {
          "base_uri": "https://localhost:8080/"
        },
        "id": "hsRbD2NFvbfM",
        "outputId": "c133d5e6-a172-4022-e384-141abc4c9e40"
      },
      "execution_count": null,
      "outputs": [
        {
          "output_type": "stream",
          "name": "stdout",
          "text": [
            "0\n",
            "1\n",
            "False\n"
          ]
        }
      ]
    },
    {
      "cell_type": "code",
      "source": [
        "# Bitwise Operators\n",
        "print(2 & 3)\n",
        "\n",
        "#  10 --> 2\n",
        "#  11 --> 3\n",
        "# -----\n",
        "#  10  --> 2"
      ],
      "metadata": {
        "colab": {
          "base_uri": "https://localhost:8080/"
        },
        "id": "ApXC99vHvv3n",
        "outputId": "2243eb71-0150-40e3-fb4d-cfa406c15be9"
      },
      "execution_count": null,
      "outputs": [
        {
          "output_type": "stream",
          "name": "stdout",
          "text": [
            "2\n"
          ]
        }
      ]
    },
    {
      "cell_type": "code",
      "source": [
        "print(2 | 3)\n",
        "#  10 --> 2\n",
        "#  11 --> 3\n",
        "# -----\n",
        "#  11  --> 3"
      ],
      "metadata": {
        "colab": {
          "base_uri": "https://localhost:8080/"
        },
        "id": "FFp3eQoLwOUB",
        "outputId": "12b1782b-1940-4a5a-b4c9-b8db40e24b71"
      },
      "execution_count": null,
      "outputs": [
        {
          "output_type": "stream",
          "name": "stdout",
          "text": [
            "3\n"
          ]
        }
      ]
    },
    {
      "cell_type": "code",
      "source": [
        "print(2 ^ 3)\n",
        "#  10 --> 2\n",
        "#  11 --> 3\n",
        "# -----\n",
        "#  01  --> 1"
      ],
      "metadata": {
        "colab": {
          "base_uri": "https://localhost:8080/"
        },
        "id": "xX-lvHRkwRPO",
        "outputId": "2bd9e7f1-1b33-4e91-d279-0fb7207626b9"
      },
      "execution_count": null,
      "outputs": [
        {
          "output_type": "stream",
          "name": "stdout",
          "text": [
            "1\n"
          ]
        }
      ]
    },
    {
      "cell_type": "code",
      "source": [
        "print(~ 2) # Bitwise Not"
      ],
      "metadata": {
        "colab": {
          "base_uri": "https://localhost:8080/"
        },
        "id": "2aKjXZABxJbl",
        "outputId": "b62fda90-2e01-40e0-fabf-5918d1e7406e"
      },
      "execution_count": null,
      "outputs": [
        {
          "output_type": "stream",
          "name": "stdout",
          "text": [
            "-3\n"
          ]
        }
      ]
    },
    {
      "cell_type": "code",
      "source": [
        "print(4 >> 2) # Bitwise left operator"
      ],
      "metadata": {
        "colab": {
          "base_uri": "https://localhost:8080/"
        },
        "id": "5Vy2VIybxOVS",
        "outputId": "5144720f-fab3-4906-b290-a4b218ea0b7b"
      },
      "execution_count": null,
      "outputs": [
        {
          "output_type": "stream",
          "name": "stdout",
          "text": [
            "1\n"
          ]
        }
      ]
    },
    {
      "cell_type": "code",
      "source": [
        "print(5 << 2) # Bitwise right operator"
      ],
      "metadata": {
        "colab": {
          "base_uri": "https://localhost:8080/"
        },
        "id": "_gRR8K6fxUNF",
        "outputId": "7661429f-3205-4e0b-8575-6ca5cf127a8b"
      },
      "execution_count": null,
      "outputs": [
        {
          "output_type": "stream",
          "name": "stdout",
          "text": [
            "20\n"
          ]
        }
      ]
    },
    {
      "cell_type": "code",
      "source": [
        "# Assignment Operators\n",
        "a = 2\n",
        "print(a)\n",
        "a += 3 # a= a+3\n",
        "print(a)"
      ],
      "metadata": {
        "colab": {
          "base_uri": "https://localhost:8080/"
        },
        "id": "kLOOweFxwfHD",
        "outputId": "db94fa43-a34c-4b65-ebf1-b3437b747cfb"
      },
      "execution_count": null,
      "outputs": [
        {
          "output_type": "stream",
          "name": "stdout",
          "text": [
            "2\n",
            "5\n"
          ]
        }
      ]
    },
    {
      "cell_type": "code",
      "source": [
        "# Membership Operators\n",
        "\n",
        "print(\"s\" in \"saurav\")\n",
        "print(\"S\" in \"saurav\")\n",
        "print(\"r\" not in \"sam\")\n",
        "print(1 in [1,2,3,4])"
      ],
      "metadata": {
        "colab": {
          "base_uri": "https://localhost:8080/"
        },
        "id": "DozGm0ufxsYv",
        "outputId": "76471ec5-bd0f-4a24-b4db-4bec51583f82"
      },
      "execution_count": null,
      "outputs": [
        {
          "output_type": "stream",
          "name": "stdout",
          "text": [
            "True\n",
            "False\n",
            "True\n",
            "True\n"
          ]
        }
      ]
    },
    {
      "cell_type": "code",
      "source": [
        "# Program - Find the sum of 3 digit number entered by the user\n",
        "\n",
        "n = int(input(\"Enter Three digit number:\"))\n",
        "s = 0\n",
        "d = 0\n",
        "while n!=0:\n",
        "  d = n%10\n",
        "  s = s+d\n",
        "  n = n//10\n",
        "\n",
        "print(\"Sum of three digit number:\",s)\n"
      ],
      "metadata": {
        "colab": {
          "base_uri": "https://localhost:8080/"
        },
        "id": "y9IbykZEyKLP",
        "outputId": "316631ea-a7c7-41bf-cdd1-1b85d9c6336b"
      },
      "execution_count": null,
      "outputs": [
        {
          "output_type": "stream",
          "name": "stdout",
          "text": [
            "Enter Three digit number:666\n",
            "Sum of three digit number: 18\n"
          ]
        }
      ]
    },
    {
      "cell_type": "markdown",
      "source": [
        "### If-else in Python"
      ],
      "metadata": {
        "id": "IBTiNXUx8JKi"
      }
    },
    {
      "cell_type": "code",
      "source": [
        "# login program and indentation\n",
        "# email -> saurav@gmail.com\n",
        "# password -> 1234\n",
        "\n",
        "\n",
        "email = input(\"Enter Email:\")\n",
        "passw = input(\"Enter Password:\")\n",
        "\n",
        "if email == \"saurav@gmail.com\" and passw == \"1234\":\n",
        "  print(\"Welcome\")\n",
        "else:\n",
        "  print(\"Wrong email/password\")"
      ],
      "metadata": {
        "colab": {
          "base_uri": "https://localhost:8080/"
        },
        "id": "vLhY3pNXzzuv",
        "outputId": "f43909e9-b7cf-46d7-e615-2731a680fc80"
      },
      "execution_count": null,
      "outputs": [
        {
          "output_type": "stream",
          "name": "stdout",
          "text": [
            "Enter Email:saurav@gmail.com\n",
            "Enter Password:1234\n",
            "Welcome\n"
          ]
        }
      ]
    },
    {
      "cell_type": "code",
      "source": [
        "email = input(\"Enter Email:\")\n",
        "passw = input(\"Enter Password:\")\n",
        "\n",
        "if email == \"saurav@gmail.com\" and passw == \"1234\":\n",
        "  print(\"Welcome\")\n",
        "elif email == \"saurav@gmail.com\" and passw != \"1234\":\n",
        "  print(\"Incorrect Password\")\n",
        "  passw = input(\"Enter Password again:\")\n",
        "  if email == \"saurav@gmail.com\" and passw == \"1234\":\n",
        "    print(\"Welcome Finally\")\n",
        "  else:\n",
        "    print(\"Wrong Password\")\n",
        "else:\n",
        "  print(\"Not correct\")"
      ],
      "metadata": {
        "colab": {
          "base_uri": "https://localhost:8080/"
        },
        "id": "0_l8asMM82E0",
        "outputId": "8509b2ca-d1c4-42d6-936f-216ce9af6456"
      },
      "execution_count": null,
      "outputs": [
        {
          "output_type": "stream",
          "name": "stdout",
          "text": [
            "Enter Email:saurav@gmail.com\n",
            "Enter Password:1234\n",
            "Welcome\n"
          ]
        }
      ]
    },
    {
      "cell_type": "code",
      "source": [
        "# 1. Find the min of 3 given number\n",
        "\n",
        "a = int(input(\"Enter the 1st number:\"))\n",
        "b = int(input(\"Enter the 2nd number:\"))\n",
        "c = int(input(\"Enter the 3rd number:\"))\n",
        "\n",
        "if a<b and a<c:\n",
        "  print(\"Smallest is\",a)\n",
        "elif b<c:\n",
        "  print(\"Smallest is\",b)\n",
        "else:\n",
        "  print(\"Smallest is\",c)"
      ],
      "metadata": {
        "colab": {
          "base_uri": "https://localhost:8080/"
        },
        "id": "ezxAPMrk_BIs",
        "outputId": "81d35d23-60df-45da-9190-9cdd0aa674e2"
      },
      "execution_count": null,
      "outputs": [
        {
          "output_type": "stream",
          "name": "stdout",
          "text": [
            "Enter the 1st number:2\n",
            "Enter the 2nd number:5\n",
            "Enter the 3rd number:1\n",
            "Smallest is 1\n"
          ]
        }
      ]
    },
    {
      "cell_type": "code",
      "source": [
        "# 2. Menu driven calculator\n",
        "\n",
        "print(\"************** Calculator ******************\")\n",
        "num1 = int(input(\"Enter 1st number:\"))\n",
        "num2 = int(input(\"Enter 2nd number:\"))\n",
        "\n",
        "op = input(\"\"\"\n",
        "Enter the operation you want to perform:\n",
        "Press 1 for addition\n",
        "Press 2 for subtraction\n",
        "Press 3 for multiplication\n",
        "Press 4 for division\n",
        "\"\"\")\n",
        "\n",
        "if op == \"1\":\n",
        "  print(\"Sum:\",num1+num2)\n",
        "elif op == \"2\":\n",
        "  print(\"Sub:\",num1-num2)\n",
        "elif op == \"3\":\n",
        "  print(\"Multiply:\",num1*num2)\n",
        "elif op == \"4\":\n",
        "  print(\"Divide:\",num1/num2)\n",
        "else:\n",
        "  print(\"Wrong option\")"
      ],
      "metadata": {
        "colab": {
          "base_uri": "https://localhost:8080/"
        },
        "id": "2UQVdfAn_8zI",
        "outputId": "2bdd2c90-0796-4c64-e97a-31107d9e4a4b"
      },
      "execution_count": null,
      "outputs": [
        {
          "output_type": "stream",
          "name": "stdout",
          "text": [
            "************** Calculator ******************\n",
            "Enter 1st number:12\n",
            "Enter 2nd number:2\n",
            "\n",
            "Enter the operation you want to perform:\n",
            "Press 1 for addition\n",
            "Press 2 for subtraction\n",
            "Press 3 for multiplication\n",
            "Press 4 for division\n",
            "3\n",
            "Multiply: 24\n"
          ]
        }
      ]
    },
    {
      "cell_type": "markdown",
      "source": [
        "### Modules in Python\n",
        "\n",
        "- math\n",
        "- keywords\n",
        "- random\n",
        "- datetime"
      ],
      "metadata": {
        "id": "EmHrf9TkCf3N"
      }
    },
    {
      "cell_type": "code",
      "source": [
        "# math\n",
        "import math\n",
        "\n",
        "print(math.sqrt(4))\n",
        "print(math.pow(4,2))\n",
        "print(math.ceil(3.2))\n",
        "print(math.factorial(3))\n",
        "print(math.floor(5.7))"
      ],
      "metadata": {
        "colab": {
          "base_uri": "https://localhost:8080/"
        },
        "id": "RqVn82bJBh55",
        "outputId": "d945525a-0961-410b-950f-08b15007cf83"
      },
      "execution_count": null,
      "outputs": [
        {
          "output_type": "stream",
          "name": "stdout",
          "text": [
            "2.0\n",
            "16.0\n",
            "4\n",
            "6\n",
            "5\n"
          ]
        }
      ]
    },
    {
      "cell_type": "code",
      "source": [
        "# keywords\n",
        "\n",
        "import keyword\n",
        "\n",
        "print(keyword.kwlist)"
      ],
      "metadata": {
        "colab": {
          "base_uri": "https://localhost:8080/"
        },
        "id": "gJW9e6O0C9Wb",
        "outputId": "0dca8b4d-4e17-42ba-c615-48f66315d19e"
      },
      "execution_count": null,
      "outputs": [
        {
          "output_type": "stream",
          "name": "stdout",
          "text": [
            "['False', 'None', 'True', 'and', 'as', 'assert', 'async', 'await', 'break', 'class', 'continue', 'def', 'del', 'elif', 'else', 'except', 'finally', 'for', 'from', 'global', 'if', 'import', 'in', 'is', 'lambda', 'nonlocal', 'not', 'or', 'pass', 'raise', 'return', 'try', 'while', 'with', 'yield']\n"
          ]
        }
      ]
    },
    {
      "cell_type": "code",
      "source": [
        "# random\n",
        "\n",
        "import random\n",
        "\n",
        "print(random.randint(1,100))"
      ],
      "metadata": {
        "colab": {
          "base_uri": "https://localhost:8080/"
        },
        "id": "Yn1d9uWmDZBz",
        "outputId": "53f6dc62-de3d-4a06-ea49-0b0547699b9e"
      },
      "execution_count": null,
      "outputs": [
        {
          "output_type": "stream",
          "name": "stdout",
          "text": [
            "28\n"
          ]
        }
      ]
    },
    {
      "cell_type": "code",
      "source": [
        "# datetime\n",
        "\n",
        "import datetime\n",
        "\n",
        "print(datetime.datetime.now())"
      ],
      "metadata": {
        "colab": {
          "base_uri": "https://localhost:8080/"
        },
        "id": "sQj8MPObDiLk",
        "outputId": "a5f5d050-a6ac-44d7-9e2c-b62034e6da0a"
      },
      "execution_count": null,
      "outputs": [
        {
          "output_type": "stream",
          "name": "stdout",
          "text": [
            "2023-02-07 04:09:13.090909\n"
          ]
        }
      ]
    },
    {
      "cell_type": "code",
      "source": [
        "# help(\"modules\") # To see all the modules"
      ],
      "metadata": {
        "id": "dWGAJQI9D0EE"
      },
      "execution_count": null,
      "outputs": []
    },
    {
      "cell_type": "markdown",
      "source": [
        "### Loops in Python\n",
        "\n",
        "- Need for loops\n",
        "- While Loop\n",
        "- For Loop"
      ],
      "metadata": {
        "id": "Af81ImhHEQ2W"
      }
    },
    {
      "cell_type": "code",
      "source": [
        "# program to print the table\n",
        "\n",
        "print(\"************* Multiplication Table ***********************\")\n",
        "num1 = int(input(\"Enter the number:\"))\n",
        "i = 1\n",
        "while i <= 10:\n",
        "  print(f\"{num1} X {i} = {num1 * i}\")\n",
        "  i+=1"
      ],
      "metadata": {
        "colab": {
          "base_uri": "https://localhost:8080/"
        },
        "id": "eWof7_ckFBtp",
        "outputId": "ae070daa-5fb3-4ba3-a3bc-6762e56afe85"
      },
      "execution_count": null,
      "outputs": [
        {
          "output_type": "stream",
          "name": "stdout",
          "text": [
            "************* Multiplication Table ***********************\n",
            "Enter the number:11\n",
            "11 X 1 = 11\n",
            "11 X 2 = 22\n",
            "11 X 3 = 33\n",
            "11 X 4 = 44\n",
            "11 X 5 = 55\n",
            "11 X 6 = 66\n",
            "11 X 7 = 77\n",
            "11 X 8 = 88\n",
            "11 X 9 = 99\n",
            "11 X 10 = 110\n"
          ]
        }
      ]
    },
    {
      "cell_type": "code",
      "source": [
        "# while loop with else [If while is successfully executed then else will be executed]\n",
        "\n",
        "x = 1\n",
        "\n",
        "while x<3:\n",
        "  print(x)\n",
        "  x+=1\n",
        "else:\n",
        "  print(\"Limit crossed\")"
      ],
      "metadata": {
        "colab": {
          "base_uri": "https://localhost:8080/"
        },
        "id": "huNgpFk7GXdR",
        "outputId": "c5e32cbe-379c-40c7-9aa7-bc9f7f1ab88c"
      },
      "execution_count": null,
      "outputs": [
        {
          "output_type": "stream",
          "name": "stdout",
          "text": [
            "1\n",
            "2\n",
            "Limit crossed\n"
          ]
        }
      ]
    },
    {
      "cell_type": "code",
      "source": [
        "# Guessing game\n",
        "\n",
        "# generate a random integer between 1 and 100\n",
        "\n",
        "\n",
        "jackpot = random.randint(1,100)\n",
        "\n",
        "guess_num = int(input(\"Enter a number:\"))\n",
        "count = 1\n",
        "while guess_num!=jackpot:\n",
        "\n",
        "  if guess_num > jackpot:\n",
        "    print(\"Guess lower\")\n",
        "  else:\n",
        "    print(\"Guess higher\")\n",
        "  guess_num = int(input(\"Enter a number:\"))\n",
        "  count += 1\n",
        "else:\n",
        "  print(\"Correct Guess\")\n",
        "  print(\"Total Attempts\",count)\n",
        "\n",
        "\n",
        "\n"
      ],
      "metadata": {
        "colab": {
          "base_uri": "https://localhost:8080/"
        },
        "id": "CAh2fLf7F_Kl",
        "outputId": "3a6c00bd-28f3-453c-8b7c-fe18f16452b2"
      },
      "execution_count": null,
      "outputs": [
        {
          "output_type": "stream",
          "name": "stdout",
          "text": [
            "Enter a number:10\n",
            "Guess higher\n",
            "Enter a number:20\n",
            "Guess higher\n",
            "Enter a number:30\n",
            "Guess higher\n",
            "Enter a number:40\n",
            "Guess lower\n",
            "Enter a number:39\n",
            "Guess lower\n",
            "Enter a number:38\n",
            "Guess lower\n",
            "Enter a number:37\n",
            "Guess lower\n",
            "Enter a number:36\n",
            "Guess lower\n",
            "Enter a number:35\n",
            "Guess lower\n",
            "Enter a number:34\n",
            "Guess lower\n",
            "Enter a number:33\n",
            "Guess lower\n",
            "Enter a number:32\n",
            "Correct Guess\n",
            "Total Attempts 12\n"
          ]
        }
      ]
    },
    {
      "cell_type": "code",
      "source": [
        "# While loop example ->\n",
        "# Program ->\n",
        "# Program -> keep accepting numbers from users till he/she enters a 0 and then find the avg"
      ],
      "metadata": {
        "id": "wmfLzMbiDrQy"
      },
      "execution_count": null,
      "outputs": []
    },
    {
      "cell_type": "code",
      "source": [
        "# Program to sum of all digits of a given number\n",
        "\n",
        "num = int(input(\"Enter the 3 digit number:\"))\n",
        "s = 0\n",
        "d = 0\n",
        "while num!=0:\n",
        "  d = num%10\n",
        "  s = s+d\n",
        "  num = num//10\n",
        "print(\"Sum\",s)"
      ],
      "metadata": {
        "colab": {
          "base_uri": "https://localhost:8080/"
        },
        "id": "_Vh_r9UcI4q2",
        "outputId": "c695c676-1fed-4158-a8e5-ddb8c690efa8"
      },
      "execution_count": null,
      "outputs": [
        {
          "output_type": "stream",
          "name": "stdout",
          "text": [
            "Enter the 3 digit number:123\n",
            "Sum 6\n"
          ]
        }
      ]
    },
    {
      "cell_type": "code",
      "source": [
        "# Program to keep accepting numbers from users till he/she enters a 0 and then find the avg\n",
        "\n",
        "\n",
        "avg = 0\n",
        "sum = 0\n",
        "num = int(input(\"Enter the num:\"))\n",
        "count = 1\n",
        "while num!=0:\n",
        "  sum = sum + num\n",
        "  avg = sum/count\n",
        "  num = int(input(\"Enter the num:\"))\n",
        "  count +=1\n",
        "\n",
        "\n",
        "print(avg)\n"
      ],
      "metadata": {
        "colab": {
          "base_uri": "https://localhost:8080/"
        },
        "id": "sV3ltX0BJeK3",
        "outputId": "ef492217-ce3c-4e15-bcad-a190c107bffc"
      },
      "execution_count": null,
      "outputs": [
        {
          "output_type": "stream",
          "name": "stdout",
          "text": [
            "Enter the num:1\n",
            "Enter the num:2\n",
            "Enter the num:3\n",
            "Enter the num:0\n",
            "2.0\n"
          ]
        }
      ]
    },
    {
      "cell_type": "code",
      "source": [
        "# for loop\n",
        "\n",
        "for i in range(1,11):\n",
        "  print(i)"
      ],
      "metadata": {
        "colab": {
          "base_uri": "https://localhost:8080/"
        },
        "id": "QImXfPi4Il_W",
        "outputId": "2c8368b5-9c83-4c1b-e6fe-32095fabd3a1"
      },
      "execution_count": null,
      "outputs": [
        {
          "output_type": "stream",
          "name": "stdout",
          "text": [
            "1\n",
            "2\n",
            "3\n",
            "4\n",
            "5\n",
            "6\n",
            "7\n",
            "8\n",
            "9\n",
            "10\n"
          ]
        }
      ]
    },
    {
      "cell_type": "code",
      "source": [
        "for i in range(1,11,2):\n",
        "  print(i)"
      ],
      "metadata": {
        "colab": {
          "base_uri": "https://localhost:8080/"
        },
        "id": "LaSu09w0Iu9j",
        "outputId": "ad913e75-b037-4379-88b1-53e622afb394"
      },
      "execution_count": null,
      "outputs": [
        {
          "output_type": "stream",
          "name": "stdout",
          "text": [
            "1\n",
            "3\n",
            "5\n",
            "7\n",
            "9\n"
          ]
        }
      ]
    },
    {
      "cell_type": "code",
      "source": [
        "for i in range(10,0,-1):\n",
        "  print(i)"
      ],
      "metadata": {
        "colab": {
          "base_uri": "https://localhost:8080/"
        },
        "id": "TnPQYZtDJRyH",
        "outputId": "f873d04f-a8e0-490a-98f8-4904c9058327"
      },
      "execution_count": null,
      "outputs": [
        {
          "output_type": "stream",
          "name": "stdout",
          "text": [
            "10\n",
            "9\n",
            "8\n",
            "7\n",
            "6\n",
            "5\n",
            "4\n",
            "3\n",
            "2\n",
            "1\n"
          ]
        }
      ]
    },
    {
      "cell_type": "code",
      "source": [
        "for i in \"Delhi\":\n",
        "  print(i)"
      ],
      "metadata": {
        "colab": {
          "base_uri": "https://localhost:8080/"
        },
        "id": "xfOVq-IoJa4U",
        "outputId": "de64960e-4edb-4b93-e679-3f861c6fdf8d"
      },
      "execution_count": null,
      "outputs": [
        {
          "output_type": "stream",
          "name": "stdout",
          "text": [
            "D\n",
            "e\n",
            "l\n",
            "h\n",
            "i\n"
          ]
        }
      ]
    },
    {
      "cell_type": "code",
      "source": [
        "for i in [1,2,3,4,5]:\n",
        "  print(i)"
      ],
      "metadata": {
        "colab": {
          "base_uri": "https://localhost:8080/"
        },
        "id": "FD66r898Jjb8",
        "outputId": "2e0db1d9-216c-4d2f-e7a3-84a10c717249"
      },
      "execution_count": null,
      "outputs": [
        {
          "output_type": "stream",
          "name": "stdout",
          "text": [
            "1\n",
            "2\n",
            "3\n",
            "4\n",
            "5\n"
          ]
        }
      ]
    },
    {
      "cell_type": "code",
      "source": [
        "for i in (1,2,3,4,5):\n",
        "  print(i)"
      ],
      "metadata": {
        "colab": {
          "base_uri": "https://localhost:8080/"
        },
        "id": "SDU-BSGDJmaP",
        "outputId": "50c65258-c61b-49be-bb20-24c5f42d51aa"
      },
      "execution_count": null,
      "outputs": [
        {
          "output_type": "stream",
          "name": "stdout",
          "text": [
            "1\n",
            "2\n",
            "3\n",
            "4\n",
            "5\n"
          ]
        }
      ]
    },
    {
      "cell_type": "code",
      "source": [
        "for i in {1,2,3,4,5}:\n",
        "  print(i)"
      ],
      "metadata": {
        "colab": {
          "base_uri": "https://localhost:8080/"
        },
        "id": "5saP5JThJpIE",
        "outputId": "ba295321-84ac-4f87-ad26-8d0c2ac845ad"
      },
      "execution_count": null,
      "outputs": [
        {
          "output_type": "stream",
          "name": "stdout",
          "text": [
            "1\n",
            "2\n",
            "3\n",
            "4\n",
            "5\n"
          ]
        }
      ]
    },
    {
      "cell_type": "markdown",
      "source": [
        "### Program - The current population of a town is 10000. The population of the town is increasing at the rate of 10% per year. You have to write a program to find out the population at the end of each of the last 10 years."
      ],
      "metadata": {
        "id": "0rCa2m6IJ05u"
      }
    },
    {
      "cell_type": "code",
      "source": [
        "pop = 10000\n",
        "\n",
        "for i in range(10,0,-1):\n",
        "  print(i,pop)\n",
        "  pop = pop/1.1"
      ],
      "metadata": {
        "colab": {
          "base_uri": "https://localhost:8080/"
        },
        "id": "KRVxPDJqJtFh",
        "outputId": "1bcbe78e-401b-43db-f921-15c8f01e84a8"
      },
      "execution_count": null,
      "outputs": [
        {
          "output_type": "stream",
          "name": "stdout",
          "text": [
            "10 10000\n",
            "9 9090.90909090909\n",
            "8 8264.462809917353\n",
            "7 7513.148009015775\n",
            "6 6830.134553650703\n",
            "5 6209.213230591548\n",
            "4 5644.739300537771\n",
            "3 5131.5811823070635\n",
            "2 4665.07380209733\n",
            "1 4240.976183724845\n"
          ]
        }
      ]
    },
    {
      "cell_type": "markdown",
      "source": [
        "### Sequence sum\n",
        "\n",
        "1/1! + 2/2! + 3/3! + ..."
      ],
      "metadata": {
        "id": "iS5FtegCE_gE"
      }
    },
    {
      "cell_type": "code",
      "source": [
        "n = int(input(\"Enter the nth value:\"))\n",
        "fact = 1\n",
        "sum = 0\n",
        "for i in range(1,n+1):\n",
        "  fact = fact * i\n",
        "  sum = sum + i/fact\n",
        "print(sum)"
      ],
      "metadata": {
        "colab": {
          "base_uri": "https://localhost:8080/"
        },
        "id": "lvigW6BmEee3",
        "outputId": "b57036d1-cdbb-43fb-9fe8-4a42cb8af16f"
      },
      "execution_count": null,
      "outputs": [
        {
          "output_type": "stream",
          "name": "stdout",
          "text": [
            "Enter the nth value:2\n",
            "2.0\n"
          ]
        }
      ]
    },
    {
      "cell_type": "markdown",
      "source": [
        "### Nested Loops"
      ],
      "metadata": {
        "id": "3UyMa11dHGLo"
      }
    },
    {
      "cell_type": "code",
      "source": [
        "# Example unique pairs\n",
        "\n",
        "for i in range(1,5):\n",
        "  for j in range(1,5):\n",
        "    print(i,j)"
      ],
      "metadata": {
        "colab": {
          "base_uri": "https://localhost:8080/"
        },
        "id": "ffcHfrbaFiWs",
        "outputId": "ca435aac-d67a-4b88-ffd2-28d800d5d7ca"
      },
      "execution_count": null,
      "outputs": [
        {
          "output_type": "stream",
          "name": "stdout",
          "text": [
            "1 1\n",
            "1 2\n",
            "1 3\n",
            "1 4\n",
            "2 1\n",
            "2 2\n",
            "2 3\n",
            "2 4\n",
            "3 1\n",
            "3 2\n",
            "3 3\n",
            "3 4\n",
            "4 1\n",
            "4 2\n",
            "4 3\n",
            "4 4\n"
          ]
        }
      ]
    },
    {
      "cell_type": "markdown",
      "source": [
        "### Pattern 1\n",
        "\n",
        "\n",
        "*** <br>\n",
        "**** <br>\n",
        "***<br>\n"
      ],
      "metadata": {
        "id": "vBtb0roUINE0"
      }
    },
    {
      "cell_type": "code",
      "source": [
        "n = int(input(\"Enter the number of *:\"))\n",
        "for i in range(n+1):\n",
        "  for j in range(i):\n",
        "    print(\"*\",end=\"\")\n",
        "  print()"
      ],
      "metadata": {
        "colab": {
          "base_uri": "https://localhost:8080/"
        },
        "id": "q6BpxbKTHe5r",
        "outputId": "ca357554-b62f-4169-86b5-2050e4692fb4"
      },
      "execution_count": null,
      "outputs": [
        {
          "output_type": "stream",
          "name": "stdout",
          "text": [
            "Enter the number of *:5\n",
            "\n",
            "*\n",
            "**\n",
            "***\n",
            "****\n",
            "*****\n"
          ]
        }
      ]
    },
    {
      "cell_type": "markdown",
      "source": [
        "### Pattern 2\n",
        "\n",
        "1<br>\n",
        "121<br>\n",
        "12321<br>\n",
        "1234321<br>"
      ],
      "metadata": {
        "id": "lbyj89naJq45"
      }
    },
    {
      "cell_type": "code",
      "source": [
        "n = int(input(\"Enter the value of n:\"))\n",
        "for i in range(1,n+1):\n",
        "  for j in range(1,i+1):\n",
        "    print(j,end=\"\")\n",
        "  for k in range(i-1,0,-1):\n",
        "    print(k,end=\"\")\n",
        "  print()"
      ],
      "metadata": {
        "colab": {
          "base_uri": "https://localhost:8080/"
        },
        "id": "GtvgpeSmIiAf",
        "outputId": "85feb7ed-6f49-4396-c4c8-57edd8772f9b"
      },
      "execution_count": null,
      "outputs": [
        {
          "output_type": "stream",
          "name": "stdout",
          "text": [
            "Enter the value of n:4\n",
            "1\n",
            "121\n",
            "12321\n",
            "1234321\n"
          ]
        }
      ]
    },
    {
      "cell_type": "markdown",
      "source": [
        "# Loop Control Statement\n",
        "\n",
        "- Break\n",
        "- Continue\n",
        "- Pass"
      ],
      "metadata": {
        "id": "CRsaITPtLTDD"
      }
    },
    {
      "cell_type": "code",
      "source": [
        "# break\n",
        "\n",
        "for i in range(1,10):\n",
        "  if i == 5:\n",
        "    break\n",
        "  print(i)"
      ],
      "metadata": {
        "colab": {
          "base_uri": "https://localhost:8080/"
        },
        "id": "rZCPhuvJKEoZ",
        "outputId": "85402e87-a5f2-4096-d9c0-f149fdc71ab1"
      },
      "execution_count": null,
      "outputs": [
        {
          "output_type": "stream",
          "name": "stdout",
          "text": [
            "1\n",
            "2\n",
            "3\n",
            "4\n"
          ]
        }
      ]
    },
    {
      "cell_type": "code",
      "source": [
        "# Example on break\n",
        "\n",
        "start = int(input(\"Enter starting number:\"))\n",
        "end = int(input(\"Enter ending number:\"))\n",
        "\n",
        "for i in range(start,end+1):\n",
        "  for j in range(2,i):\n",
        "    if i%j == 0:\n",
        "      break\n",
        "  else:\n",
        "    print(f\"{i} is a prime number.\")"
      ],
      "metadata": {
        "colab": {
          "base_uri": "https://localhost:8080/"
        },
        "id": "tHNx_F10MU20",
        "outputId": "1051f315-b5cf-49b4-a78b-b0415745fa80"
      },
      "execution_count": null,
      "outputs": [
        {
          "output_type": "stream",
          "name": "stdout",
          "text": [
            "Enter starting number:10\n",
            "Enter ending number:20\n",
            "11 is a prime number.\n",
            "13 is a prime number.\n",
            "17 is a prime number.\n",
            "19 is a prime number.\n"
          ]
        }
      ]
    },
    {
      "cell_type": "code",
      "source": [
        "# continue\n",
        "\n",
        "for i in range(1,10):\n",
        "  if i == 5:\n",
        "    continue\n",
        "  print(i)"
      ],
      "metadata": {
        "colab": {
          "base_uri": "https://localhost:8080/"
        },
        "id": "hfY3N1hsL0bb",
        "outputId": "9368ef0b-e75f-4436-d5f1-526629b4e8a0"
      },
      "execution_count": null,
      "outputs": [
        {
          "output_type": "stream",
          "name": "stdout",
          "text": [
            "1\n",
            "2\n",
            "3\n",
            "4\n",
            "6\n",
            "7\n",
            "8\n",
            "9\n"
          ]
        }
      ]
    },
    {
      "cell_type": "code",
      "source": [
        "# pass\n",
        "\n",
        "for i in range(10):\n",
        "  pass"
      ],
      "metadata": {
        "id": "KlEDj4wbN8RK"
      },
      "execution_count": null,
      "outputs": []
    }
  ]
}