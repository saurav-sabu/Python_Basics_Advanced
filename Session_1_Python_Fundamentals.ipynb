{
  "nbformat": 4,
  "nbformat_minor": 0,
  "metadata": {
    "colab": {
      "provenance": []
    },
    "kernelspec": {
      "name": "python3",
      "display_name": "Python 3"
    },
    "language_info": {
      "name": "python"
    }
  },
  "cells": [
    {
      "cell_type": "markdown",
      "source": [
        "### Why Python?\n",
        "\n",
        "- `Design Philosophy` :- Code is well indented and it increases readability. It is very easy. It is properly designed.\n",
        "\n",
        "- `Batteries Included` :- It has a lot of libraries and data structures.\n",
        "\n",
        "- `General Purpose` :- We can create do web development,games,desktop applications , data science applications etc. It also supports functional, object oriented etc. It is multi paradigm.\n",
        "\n",
        "- `Community`:- Very huge community who are very active and those people could solve commonly faced problems.\n"
      ],
      "metadata": {
        "id": "Q-XzIyyNv00K"
      }
    },
    {
      "cell_type": "markdown",
      "source": [
        "### Why Python for Data Science?\n",
        "\n",
        "- Easy to learn\n",
        "- Proximity with Maths\n",
        "- Community"
      ],
      "metadata": {
        "id": "Qs2I86HzxVfp"
      }
    },
    {
      "cell_type": "markdown",
      "source": [
        "`Note` :- Python is case sensitive language"
      ],
      "metadata": {
        "id": "eHsTb_jlzOHn"
      }
    },
    {
      "cell_type": "markdown",
      "source": [
        "### 1. Python Output"
      ],
      "metadata": {
        "id": "CdXuqE2yyiWa"
      }
    },
    {
      "cell_type": "code",
      "execution_count": null,
      "metadata": {
        "colab": {
          "base_uri": "https://localhost:8080/"
        },
        "id": "DFCdNsEItshB",
        "outputId": "15d53631-9975-45d5-941a-20353da9aa2b"
      },
      "outputs": [
        {
          "output_type": "stream",
          "name": "stdout",
          "text": [
            "Hello World\n"
          ]
        }
      ],
      "source": [
        "print(\"Hello World\")"
      ]
    },
    {
      "cell_type": "code",
      "source": [
        "print(\"Saurav Sabu\")"
      ],
      "metadata": {
        "colab": {
          "base_uri": "https://localhost:8080/"
        },
        "id": "92rXOeMjzIe3",
        "outputId": "c7ad7a2a-958a-4dec-d83d-5ec3ea286824"
      },
      "execution_count": null,
      "outputs": [
        {
          "output_type": "stream",
          "name": "stdout",
          "text": [
            "Saurav Sabu\n"
          ]
        }
      ]
    },
    {
      "cell_type": "code",
      "source": [
        "print(saurav sabu)"
      ],
      "metadata": {
        "colab": {
          "base_uri": "https://localhost:8080/",
          "height": 134
        },
        "id": "JFmauk5Lzlvw",
        "outputId": "31d9f2f0-4f8e-4ec6-c37b-7b4960a56919"
      },
      "execution_count": null,
      "outputs": [
        {
          "output_type": "error",
          "ename": "SyntaxError",
          "evalue": "ignored",
          "traceback": [
            "\u001b[0;36m  File \u001b[0;32m\"<ipython-input-3-cede4b489108>\"\u001b[0;36m, line \u001b[0;32m1\u001b[0m\n\u001b[0;31m    print(saurav sabu)\u001b[0m\n\u001b[0m                 ^\u001b[0m\n\u001b[0;31mSyntaxError\u001b[0m\u001b[0;31m:\u001b[0m invalid syntax\n"
          ]
        }
      ]
    },
    {
      "cell_type": "code",
      "source": [
        "print(12)"
      ],
      "metadata": {
        "colab": {
          "base_uri": "https://localhost:8080/"
        },
        "id": "wtsuU0FPzpPj",
        "outputId": "ad7d56d3-f44d-4336-d9dd-a8f798c9edff"
      },
      "execution_count": null,
      "outputs": [
        {
          "output_type": "stream",
          "name": "stdout",
          "text": [
            "12\n"
          ]
        }
      ]
    },
    {
      "cell_type": "code",
      "source": [
        "print(12.2)"
      ],
      "metadata": {
        "colab": {
          "base_uri": "https://localhost:8080/"
        },
        "id": "6edHzGMjzxmg",
        "outputId": "a1bce1bf-372e-4827-a317-db07145e640a"
      },
      "execution_count": null,
      "outputs": [
        {
          "output_type": "stream",
          "name": "stdout",
          "text": [
            "12.2\n"
          ]
        }
      ]
    },
    {
      "cell_type": "code",
      "source": [
        "print(True)"
      ],
      "metadata": {
        "colab": {
          "base_uri": "https://localhost:8080/"
        },
        "id": "4LJs_m1Lz0hM",
        "outputId": "4bf9cbe5-af25-477d-cc7c-e888dfd5e137"
      },
      "execution_count": null,
      "outputs": [
        {
          "output_type": "stream",
          "name": "stdout",
          "text": [
            "True\n"
          ]
        }
      ]
    },
    {
      "cell_type": "code",
      "source": [
        "print(\"Hello\",1,4.5,True)"
      ],
      "metadata": {
        "colab": {
          "base_uri": "https://localhost:8080/"
        },
        "id": "LHu6NtPKz2AD",
        "outputId": "a6b0e414-7b98-4c03-9e64-8cf8c52ba370"
      },
      "execution_count": null,
      "outputs": [
        {
          "output_type": "stream",
          "name": "stdout",
          "text": [
            "Hello 1 4.5 True\n"
          ]
        }
      ]
    },
    {
      "cell_type": "code",
      "source": [
        "# sep parameter\n",
        "print(\"Hello\",1,4.5,True,sep=\"-\")"
      ],
      "metadata": {
        "colab": {
          "base_uri": "https://localhost:8080/"
        },
        "id": "GiRYc_qr0BZF",
        "outputId": "e4aec452-f27a-463e-eaee-6ac4c59807d9"
      },
      "execution_count": null,
      "outputs": [
        {
          "output_type": "stream",
          "name": "stdout",
          "text": [
            "Hello-1-4.5-True\n"
          ]
        }
      ]
    },
    {
      "cell_type": "code",
      "source": [
        "print(\"Hello\",1,4.5,True,sep=\"/\")"
      ],
      "metadata": {
        "colab": {
          "base_uri": "https://localhost:8080/"
        },
        "id": "U8vQL_b10bGq",
        "outputId": "9b4aa11e-013a-47ec-ffe1-1e29ffde98b4"
      },
      "execution_count": null,
      "outputs": [
        {
          "output_type": "stream",
          "name": "stdout",
          "text": [
            "Hello/1/4.5/True\n"
          ]
        }
      ]
    },
    {
      "cell_type": "code",
      "source": [
        "print(\"Hello\")\n",
        "print(\"World\")"
      ],
      "metadata": {
        "colab": {
          "base_uri": "https://localhost:8080/"
        },
        "id": "OP-hulNo0g8X",
        "outputId": "25adef74-0b03-4634-a68f-96a3f945198e"
      },
      "execution_count": null,
      "outputs": [
        {
          "output_type": "stream",
          "name": "stdout",
          "text": [
            "Hello\n",
            "World\n"
          ]
        }
      ]
    },
    {
      "cell_type": "code",
      "source": [
        "# end parameter\n",
        "print(\"Hello\",end=\"\")\n",
        "print(\"World\")"
      ],
      "metadata": {
        "colab": {
          "base_uri": "https://localhost:8080/"
        },
        "id": "ltsDH68q0qP6",
        "outputId": "34f11090-b202-4066-e30d-e7a07459ac45"
      },
      "execution_count": null,
      "outputs": [
        {
          "output_type": "stream",
          "name": "stdout",
          "text": [
            "HelloWorld\n"
          ]
        }
      ]
    },
    {
      "cell_type": "code",
      "source": [
        "print(\"Hello\",end=\"-\")\n",
        "print(\"World\")"
      ],
      "metadata": {
        "colab": {
          "base_uri": "https://localhost:8080/"
        },
        "id": "9WJir4vV0u0O",
        "outputId": "7ec9fd75-1461-4186-ea92-ec073b5d3943"
      },
      "execution_count": null,
      "outputs": [
        {
          "output_type": "stream",
          "name": "stdout",
          "text": [
            "Hello-World\n"
          ]
        }
      ]
    },
    {
      "cell_type": "markdown",
      "source": [
        "### 2. Data Types"
      ],
      "metadata": {
        "id": "gd-ZY0h01S11"
      }
    },
    {
      "cell_type": "code",
      "source": [
        "# Integer\n",
        "print(100)"
      ],
      "metadata": {
        "colab": {
          "base_uri": "https://localhost:8080/"
        },
        "id": "RMF-YH2r0xvD",
        "outputId": "0a271c7a-f89d-4d2b-9307-1aa3d030b845"
      },
      "execution_count": null,
      "outputs": [
        {
          "output_type": "stream",
          "name": "stdout",
          "text": [
            "100\n"
          ]
        }
      ]
    },
    {
      "cell_type": "code",
      "source": [
        "# Float\n",
        "print(100.12)"
      ],
      "metadata": {
        "colab": {
          "base_uri": "https://localhost:8080/"
        },
        "id": "Lh46jLkf1cGq",
        "outputId": "8cc5fb68-e4cf-4ca7-e02b-c2da2aa46c59"
      },
      "execution_count": null,
      "outputs": [
        {
          "output_type": "stream",
          "name": "stdout",
          "text": [
            "100.12\n"
          ]
        }
      ]
    },
    {
      "cell_type": "code",
      "source": [
        "# Boolean\n",
        "print(True)\n",
        "print(False)"
      ],
      "metadata": {
        "colab": {
          "base_uri": "https://localhost:8080/"
        },
        "id": "AUKBQ9FK1cJW",
        "outputId": "a1fb0d07-c38a-4193-c2a6-71b7bb134d09"
      },
      "execution_count": null,
      "outputs": [
        {
          "output_type": "stream",
          "name": "stdout",
          "text": [
            "True\n",
            "False\n"
          ]
        }
      ]
    },
    {
      "cell_type": "code",
      "source": [
        "# String\n",
        "print(\"Hello World\")"
      ],
      "metadata": {
        "colab": {
          "base_uri": "https://localhost:8080/"
        },
        "id": "-YgzsX4O1cPt",
        "outputId": "b7f0be47-eb88-46eb-8e3f-2aabfbb2a802"
      },
      "execution_count": null,
      "outputs": [
        {
          "output_type": "stream",
          "name": "stdout",
          "text": [
            "Hello World\n"
          ]
        }
      ]
    },
    {
      "cell_type": "code",
      "source": [
        "# Complex\n",
        "print(1+2j)"
      ],
      "metadata": {
        "colab": {
          "base_uri": "https://localhost:8080/"
        },
        "id": "ulOHqZFv1cSi",
        "outputId": "7dbefe7e-8360-4deb-b912-3d330fde87ad"
      },
      "execution_count": null,
      "outputs": [
        {
          "output_type": "stream",
          "name": "stdout",
          "text": [
            "(1+2j)\n"
          ]
        }
      ]
    },
    {
      "cell_type": "code",
      "source": [
        "# List\n",
        "print([1,2,3,4,5])"
      ],
      "metadata": {
        "colab": {
          "base_uri": "https://localhost:8080/"
        },
        "id": "XOJ_Zb4V1cVx",
        "outputId": "7b9c1cea-a395-46b4-e4c5-9a4a85826beb"
      },
      "execution_count": null,
      "outputs": [
        {
          "output_type": "stream",
          "name": "stdout",
          "text": [
            "[1, 2, 3, 4, 5]\n"
          ]
        }
      ]
    },
    {
      "cell_type": "code",
      "source": [
        "# Tuple\n",
        "print((1,2,3,4,5))"
      ],
      "metadata": {
        "colab": {
          "base_uri": "https://localhost:8080/"
        },
        "id": "cjvjWsd22QCW",
        "outputId": "4bb8d2db-c1f4-4300-895d-5d82286f56cd"
      },
      "execution_count": null,
      "outputs": [
        {
          "output_type": "stream",
          "name": "stdout",
          "text": [
            "(1, 2, 3, 4, 5)\n"
          ]
        }
      ]
    },
    {
      "cell_type": "code",
      "source": [
        "# Sets\n",
        "print({1,2,3,4,5})"
      ],
      "metadata": {
        "colab": {
          "base_uri": "https://localhost:8080/"
        },
        "id": "mBa7WF882WNZ",
        "outputId": "037f8373-6263-4a62-ceb8-1fe4d7c66b10"
      },
      "execution_count": null,
      "outputs": [
        {
          "output_type": "stream",
          "name": "stdout",
          "text": [
            "{1, 2, 3, 4, 5}\n"
          ]
        }
      ]
    },
    {
      "cell_type": "code",
      "source": [
        "# Dictionary\n",
        "print({\"Name\":\"Saurav\",\"Gender\":\"Male\",\"Age\":22})"
      ],
      "metadata": {
        "colab": {
          "base_uri": "https://localhost:8080/"
        },
        "id": "1msGdLjG2cCt",
        "outputId": "e4a19d63-1263-4fd7-b62c-1c697046c1fc"
      },
      "execution_count": null,
      "outputs": [
        {
          "output_type": "stream",
          "name": "stdout",
          "text": [
            "{'Name': 'Saurav', 'Gender': 'Male', 'Age': 22}\n"
          ]
        }
      ]
    },
    {
      "cell_type": "markdown",
      "source": [
        "### 3. Type() function"
      ],
      "metadata": {
        "id": "sFo7PryD3bJD"
      }
    },
    {
      "cell_type": "code",
      "source": [
        "type(3)"
      ],
      "metadata": {
        "colab": {
          "base_uri": "https://localhost:8080/"
        },
        "id": "qZmc2MV-2k8U",
        "outputId": "159f1cf0-b443-4ab2-9f50-f78b9a040481"
      },
      "execution_count": null,
      "outputs": [
        {
          "output_type": "execute_result",
          "data": {
            "text/plain": [
              "int"
            ]
          },
          "metadata": {},
          "execution_count": 25
        }
      ]
    },
    {
      "cell_type": "code",
      "source": [
        "type(3.5)"
      ],
      "metadata": {
        "colab": {
          "base_uri": "https://localhost:8080/"
        },
        "id": "1-DLcdz43e0f",
        "outputId": "382a231f-093d-41b0-d28a-515872708dd2"
      },
      "execution_count": null,
      "outputs": [
        {
          "output_type": "execute_result",
          "data": {
            "text/plain": [
              "float"
            ]
          },
          "metadata": {},
          "execution_count": 26
        }
      ]
    },
    {
      "cell_type": "code",
      "source": [
        "type(\"hello\")"
      ],
      "metadata": {
        "colab": {
          "base_uri": "https://localhost:8080/"
        },
        "id": "dGTf9W_n3fmS",
        "outputId": "288498a2-fe48-4597-a018-17f7c6089a33"
      },
      "execution_count": null,
      "outputs": [
        {
          "output_type": "execute_result",
          "data": {
            "text/plain": [
              "str"
            ]
          },
          "metadata": {},
          "execution_count": 27
        }
      ]
    },
    {
      "cell_type": "code",
      "source": [
        "type(2j)"
      ],
      "metadata": {
        "colab": {
          "base_uri": "https://localhost:8080/"
        },
        "id": "Gfcu3LZT3gbw",
        "outputId": "2b1991f4-b4e0-437d-c0ef-d365e02128f3"
      },
      "execution_count": null,
      "outputs": [
        {
          "output_type": "execute_result",
          "data": {
            "text/plain": [
              "complex"
            ]
          },
          "metadata": {},
          "execution_count": 28
        }
      ]
    },
    {
      "cell_type": "code",
      "source": [
        "type([1,2,3])"
      ],
      "metadata": {
        "colab": {
          "base_uri": "https://localhost:8080/"
        },
        "id": "pZMAeHr33hnR",
        "outputId": "b9fea6f2-cb56-4ee6-f3fb-7d7729d71bf5"
      },
      "execution_count": null,
      "outputs": [
        {
          "output_type": "execute_result",
          "data": {
            "text/plain": [
              "list"
            ]
          },
          "metadata": {},
          "execution_count": 29
        }
      ]
    },
    {
      "cell_type": "markdown",
      "source": [
        "### 4. Variables"
      ],
      "metadata": {
        "id": "ZOHeyMwg3lai"
      }
    },
    {
      "cell_type": "code",
      "source": [
        "# Static Vs Dynamic Typing\n",
        "# Static Vs Dynamic Binding\n",
        "# stylish declaration techniques"
      ],
      "metadata": {
        "id": "qfD04CVW3jyg"
      },
      "execution_count": null,
      "outputs": []
    },
    {
      "cell_type": "code",
      "source": [
        "name = \"Saurav Sanbu\"\n",
        "print(name)"
      ],
      "metadata": {
        "colab": {
          "base_uri": "https://localhost:8080/"
        },
        "id": "3R2d258e4QX2",
        "outputId": "6a8664ab-4acc-4c08-ceca-08c31a3671f1"
      },
      "execution_count": null,
      "outputs": [
        {
          "output_type": "stream",
          "name": "stdout",
          "text": [
            "Saurav Sanbu\n"
          ]
        }
      ]
    },
    {
      "cell_type": "markdown",
      "source": [
        "#### Dynamic Typing\n",
        "\n",
        "- In python explicitly we do not need to tell about the datatype. It automatically understands the datatype."
      ],
      "metadata": {
        "id": "5vo70sDF4wQz"
      }
    },
    {
      "cell_type": "markdown",
      "source": [
        "#### Static Typing\n",
        "\n",
        "- In python implicitly we need to tell about the datatype."
      ],
      "metadata": {
        "id": "QDqG2PZf4-ii"
      }
    },
    {
      "cell_type": "code",
      "source": [
        "# Dynamic typing\n",
        "a = 5\n",
        "# Static Typing\n",
        "int a = 10"
      ],
      "metadata": {
        "id": "ScHieGKf4a6G"
      },
      "execution_count": null,
      "outputs": []
    },
    {
      "cell_type": "code",
      "source": [
        "# Dynamic Typing\n",
        "# - It can hold any type of data\n",
        "\n",
        "a = 5\n",
        "print(a)\n",
        "a = \"Saurav\"\n",
        "print(a)"
      ],
      "metadata": {
        "colab": {
          "base_uri": "https://localhost:8080/"
        },
        "id": "CBw_1CGM5OSJ",
        "outputId": "d9597580-9cda-400d-bd21-dfe8b175b6ae"
      },
      "execution_count": null,
      "outputs": [
        {
          "output_type": "stream",
          "name": "stdout",
          "text": [
            "5\n",
            "Saurav\n"
          ]
        }
      ]
    },
    {
      "cell_type": "code",
      "source": [
        "a = 1\n",
        "b = 2\n",
        "c = 3\n",
        "print(a,b,c)"
      ],
      "metadata": {
        "colab": {
          "base_uri": "https://localhost:8080/"
        },
        "id": "0hyPIUKX5UhW",
        "outputId": "16cc3145-1ccb-410c-dcbf-504890f1bd4f"
      },
      "execution_count": null,
      "outputs": [
        {
          "output_type": "stream",
          "name": "stdout",
          "text": [
            "1 2 3\n"
          ]
        }
      ]
    },
    {
      "cell_type": "code",
      "source": [
        "a,b,c = 4,5,6\n",
        "print(a,b,c)"
      ],
      "metadata": {
        "colab": {
          "base_uri": "https://localhost:8080/"
        },
        "id": "Uwhk3Aab5l8X",
        "outputId": "225924b3-d423-4ef6-cbb8-f495ce1a9a85"
      },
      "execution_count": null,
      "outputs": [
        {
          "output_type": "stream",
          "name": "stdout",
          "text": [
            "4 5 6\n"
          ]
        }
      ]
    },
    {
      "cell_type": "code",
      "source": [
        "a = b = c = 5\n",
        "print(a,b,c)"
      ],
      "metadata": {
        "colab": {
          "base_uri": "https://localhost:8080/"
        },
        "id": "bYlI0t6s5oHE",
        "outputId": "675975f2-8f0d-41ed-d0b7-9593da743c42"
      },
      "execution_count": null,
      "outputs": [
        {
          "output_type": "stream",
          "name": "stdout",
          "text": [
            "5 5 5\n"
          ]
        }
      ]
    },
    {
      "cell_type": "markdown",
      "source": [
        "`Note`:- # is basically is used for comment. Comment is basically use to ignore lines"
      ],
      "metadata": {
        "id": "nn5vOiFW6uAk"
      }
    },
    {
      "cell_type": "markdown",
      "source": [
        "### 5. Keywords & Identifiers\n",
        "\n",
        "- Keywords are basically reserved words to convey a special meaning to the programming language. In Python there are 32 keywords.\n",
        "- Identifiers are basically name given to variables,class,functions etc."
      ],
      "metadata": {
        "id": "SZrhed-b6k6X"
      }
    },
    {
      "cell_type": "markdown",
      "source": [
        "### Rules to create Identifier\n",
        "\n",
        "1. You can't start with digit.\n",
        "2. You can use only _ as special character.\n",
        "3. You cannot use keywords as identifiers.\n"
      ],
      "metadata": {
        "id": "jrIhqUJ59ZM8"
      }
    },
    {
      "cell_type": "markdown",
      "source": [
        "### 6. User Input"
      ],
      "metadata": {
        "id": "1E-sua_l9ZSD"
      }
    },
    {
      "cell_type": "code",
      "source": [
        "input()"
      ],
      "metadata": {
        "colab": {
          "base_uri": "https://localhost:8080/",
          "height": 54
        },
        "id": "h11URpgs5r9j",
        "outputId": "71ad7f76-a6f7-43da-9227-d7ee58b7cc28"
      },
      "execution_count": null,
      "outputs": [
        {
          "name": "stdout",
          "output_type": "stream",
          "text": [
            "saurav\n"
          ]
        },
        {
          "output_type": "execute_result",
          "data": {
            "text/plain": [
              "'saurav'"
            ],
            "application/vnd.google.colaboratory.intrinsic+json": {
              "type": "string"
            }
          },
          "metadata": {},
          "execution_count": 39
        }
      ]
    },
    {
      "cell_type": "code",
      "source": [
        "input(\"Enter your name:\")"
      ],
      "metadata": {
        "colab": {
          "base_uri": "https://localhost:8080/",
          "height": 54
        },
        "id": "AlZi6GXE-tAy",
        "outputId": "cba01f3a-d618-4e26-905d-961b9e08bfd7"
      },
      "execution_count": null,
      "outputs": [
        {
          "name": "stdout",
          "output_type": "stream",
          "text": [
            "Enter your name:saurav\n"
          ]
        },
        {
          "output_type": "execute_result",
          "data": {
            "text/plain": [
              "'saurav'"
            ],
            "application/vnd.google.colaboratory.intrinsic+json": {
              "type": "string"
            }
          },
          "metadata": {},
          "execution_count": 40
        }
      ]
    },
    {
      "cell_type": "code",
      "source": [
        "# add two number using input()\n",
        "\n",
        "# Take input from user and store them in variable\n",
        "a = int(input(\"Enter 1st number:\"))\n",
        "b = int(input(\"Enter 2nd number:\"))\n",
        "\n",
        "# Add the two variables\n",
        "sum = a + b\n",
        "\n",
        "# Print the result\n",
        "print(sum)\n"
      ],
      "metadata": {
        "colab": {
          "base_uri": "https://localhost:8080/"
        },
        "id": "9d8LjJ2h_J8D",
        "outputId": "0c7c5bb8-fc99-4a4a-cd03-5957792005f9"
      },
      "execution_count": null,
      "outputs": [
        {
          "output_type": "stream",
          "name": "stdout",
          "text": [
            "Enter 1st number:1\n",
            "Enter 2nd number:2\n",
            "3\n"
          ]
        }
      ]
    },
    {
      "cell_type": "markdown",
      "source": [
        "### 7. Type Conversion\n",
        "\n",
        "- Converting data from one datatype to another datatype"
      ],
      "metadata": {
        "id": "wefQ5TEw_2Eh"
      }
    },
    {
      "cell_type": "code",
      "source": [
        "# Explicit\n",
        "print(int(3.5))\n",
        "print(str(4))\n",
        "print(bool(5))\n",
        "print(bool(0))\n",
        "print(complex(2))"
      ],
      "metadata": {
        "colab": {
          "base_uri": "https://localhost:8080/"
        },
        "id": "WErjWmqn_5M8",
        "outputId": "5de4be56-37cf-45b2-a66e-7dce2473b3dc"
      },
      "execution_count": null,
      "outputs": [
        {
          "output_type": "stream",
          "name": "stdout",
          "text": [
            "3\n",
            "4\n",
            "True\n",
            "False\n",
            "(2+0j)\n"
          ]
        }
      ]
    },
    {
      "cell_type": "code",
      "source": [
        "# Implicit\n",
        "print(5+5.6)"
      ],
      "metadata": {
        "colab": {
          "base_uri": "https://localhost:8080/"
        },
        "id": "DXRy2b1cAi3x",
        "outputId": "afcac7d8-52fe-4553-ba8e-7d3c7853b47e"
      },
      "execution_count": null,
      "outputs": [
        {
          "output_type": "stream",
          "name": "stdout",
          "text": [
            "10.6\n"
          ]
        }
      ]
    },
    {
      "cell_type": "code",
      "source": [
        "print(4 + \"4\")"
      ],
      "metadata": {
        "colab": {
          "base_uri": "https://localhost:8080/",
          "height": 171
        },
        "id": "UI1DWKXjAtKN",
        "outputId": "00ac6ad5-6655-40d9-d543-82ccac675331"
      },
      "execution_count": null,
      "outputs": [
        {
          "output_type": "error",
          "ename": "TypeError",
          "evalue": "ignored",
          "traceback": [
            "\u001b[0;31m---------------------------------------------------------------------------\u001b[0m",
            "\u001b[0;31mTypeError\u001b[0m                                 Traceback (most recent call last)",
            "\u001b[0;32m<ipython-input-46-de032a2f51b8>\u001b[0m in \u001b[0;36m<module>\u001b[0;34m\u001b[0m\n\u001b[0;32m----> 1\u001b[0;31m \u001b[0mprint\u001b[0m\u001b[0;34m(\u001b[0m\u001b[0;36m4\u001b[0m \u001b[0;34m+\u001b[0m \u001b[0;34m\"4\"\u001b[0m\u001b[0;34m)\u001b[0m\u001b[0;34m\u001b[0m\u001b[0;34m\u001b[0m\u001b[0m\n\u001b[0m",
            "\u001b[0;31mTypeError\u001b[0m: unsupported operand type(s) for +: 'int' and 'str'"
          ]
        }
      ]
    },
    {
      "cell_type": "code",
      "source": [
        "print(4 + int(\"4\"))"
      ],
      "metadata": {
        "colab": {
          "base_uri": "https://localhost:8080/"
        },
        "id": "h9N-X6nmA6y5",
        "outputId": "ec64871e-5107-48a4-866c-57ba74dea401"
      },
      "execution_count": null,
      "outputs": [
        {
          "output_type": "stream",
          "name": "stdout",
          "text": [
            "8\n"
          ]
        }
      ]
    },
    {
      "cell_type": "markdown",
      "source": [
        "### 8. Literals\n",
        "\n",
        "- Values stored inside the variables"
      ],
      "metadata": {
        "id": "PrVTgcd9C_0l"
      }
    },
    {
      "cell_type": "code",
      "source": [
        "a = 0b1010 # Binary Literal\n",
        "print(a)"
      ],
      "metadata": {
        "colab": {
          "base_uri": "https://localhost:8080/"
        },
        "id": "R4r9geopBCVK",
        "outputId": "febc0b93-c9d4-4e29-f117-9a78e2548db3"
      },
      "execution_count": null,
      "outputs": [
        {
          "output_type": "stream",
          "name": "stdout",
          "text": [
            "10\n"
          ]
        }
      ]
    },
    {
      "cell_type": "code",
      "source": [
        "b = 100 # Deciaml Literal\n",
        "print(b)"
      ],
      "metadata": {
        "colab": {
          "base_uri": "https://localhost:8080/"
        },
        "id": "b8Dn6mRQDSJO",
        "outputId": "6bc24062-ec82-48c6-ce22-8732ea1cb797"
      },
      "execution_count": null,
      "outputs": [
        {
          "output_type": "stream",
          "name": "stdout",
          "text": [
            "100\n"
          ]
        }
      ]
    },
    {
      "cell_type": "code",
      "source": [
        "c = 0o310 # Octal Literal\n",
        "print(c)"
      ],
      "metadata": {
        "colab": {
          "base_uri": "https://localhost:8080/"
        },
        "id": "2wgXA3kHDez7",
        "outputId": "70a6a2d3-7d76-4db6-8d88-d9d45ddd1f59"
      },
      "execution_count": null,
      "outputs": [
        {
          "output_type": "stream",
          "name": "stdout",
          "text": [
            "200\n"
          ]
        }
      ]
    },
    {
      "cell_type": "code",
      "source": [
        "d = 0x12c # Hexadecimal Literal\n",
        "print(d)"
      ],
      "metadata": {
        "colab": {
          "base_uri": "https://localhost:8080/"
        },
        "id": "3fGehgGJDjK4",
        "outputId": "3aaee0e7-81c7-4433-f45e-1c42c0153437"
      },
      "execution_count": null,
      "outputs": [
        {
          "output_type": "stream",
          "name": "stdout",
          "text": [
            "300\n"
          ]
        }
      ]
    },
    {
      "cell_type": "code",
      "source": [
        "# Float Literal\n",
        "float_1 = 10.5\n",
        "float_2 = 1.5e3\n",
        "float_3 = 1.5e-3\n",
        "\n",
        "print(float_1)\n",
        "print(float_2)\n",
        "print(float_3)"
      ],
      "metadata": {
        "colab": {
          "base_uri": "https://localhost:8080/"
        },
        "id": "0Q6LHdayDo7i",
        "outputId": "b7522a2f-e36a-4500-de6a-27eb04d1ad19"
      },
      "execution_count": null,
      "outputs": [
        {
          "output_type": "stream",
          "name": "stdout",
          "text": [
            "10.5\n",
            "1500.0\n",
            "0.0015\n"
          ]
        }
      ]
    },
    {
      "cell_type": "code",
      "source": [
        "# Complex Literal\n",
        "x = 3.14j\n",
        "\n",
        "print(x)\n",
        "print(x.real)\n",
        "print(x.imag)\n",
        "print(x.conjugate())"
      ],
      "metadata": {
        "colab": {
          "base_uri": "https://localhost:8080/"
        },
        "id": "sI9PUD4qDzv7",
        "outputId": "b29d7303-a941-41e0-c821-21132ce353da"
      },
      "execution_count": null,
      "outputs": [
        {
          "output_type": "stream",
          "name": "stdout",
          "text": [
            "3.14j\n",
            "0.0\n",
            "3.14\n",
            "-3.14j\n"
          ]
        }
      ]
    },
    {
      "cell_type": "code",
      "source": [
        "# String Literal\n",
        "\n",
        "string = 'This is Python'\n",
        "strings = \"This is Python\"\n",
        "char = \"C\"\n",
        "multiline_str = \"\"\"\n",
        "This is multiline\n",
        "string. Lets\n",
        "see it\n",
        "\"\"\"\n",
        "unicode = u\"\\U0001f600\\U0001F606\\U0001F923\"\n",
        "raw_str = r\"raw \\n string\"\n",
        "\n",
        "print(string)\n",
        "print(strings)\n",
        "print(char)\n",
        "print(multiline_str)\n",
        "print(unicode)\n",
        "print(raw_str)"
      ],
      "metadata": {
        "colab": {
          "base_uri": "https://localhost:8080/"
        },
        "id": "tqXmwfDLD8fc",
        "outputId": "09472900-6fd4-4897-db92-87dba543e9f5"
      },
      "execution_count": null,
      "outputs": [
        {
          "output_type": "stream",
          "name": "stdout",
          "text": [
            "This is Python\n",
            "This is Python\n",
            "C\n",
            "\n",
            "This is multiline\n",
            "string. Lets\n",
            "see it\n",
            "\n",
            "😀😆🤣\n",
            "raw \\n string\n"
          ]
        }
      ]
    },
    {
      "cell_type": "code",
      "source": [
        "# Boolean Literal\n",
        "a = True + 4\n",
        "b = False + 10\n",
        "\n",
        "print(a)\n",
        "print(b)"
      ],
      "metadata": {
        "colab": {
          "base_uri": "https://localhost:8080/"
        },
        "id": "2YfAwO1kEmbz",
        "outputId": "4a08e2c1-336d-492a-d57a-ce55c9030abd"
      },
      "execution_count": null,
      "outputs": [
        {
          "output_type": "stream",
          "name": "stdout",
          "text": [
            "5\n",
            "10\n"
          ]
        }
      ]
    },
    {
      "cell_type": "code",
      "source": [
        "# None Literal\n",
        "a = None\n",
        "print(a)"
      ],
      "metadata": {
        "colab": {
          "base_uri": "https://localhost:8080/"
        },
        "id": "-yLwpwSeE5KF",
        "outputId": "d57e5395-80b5-48a0-f446-1f2287a065ee"
      },
      "execution_count": null,
      "outputs": [
        {
          "output_type": "stream",
          "name": "stdout",
          "text": [
            "None\n"
          ]
        }
      ]
    },
    {
      "cell_type": "code",
      "source": [
        "# Variable declaration is not possible like this\n",
        "k\n",
        "a = 5\n",
        "b = 6\n",
        "print(a+b)"
      ],
      "metadata": {
        "colab": {
          "base_uri": "https://localhost:8080/",
          "height": 226
        },
        "id": "Wd4F8SMHFJqK",
        "outputId": "d6000071-bb76-4e16-c18a-861412fab982"
      },
      "execution_count": null,
      "outputs": [
        {
          "output_type": "error",
          "ename": "NameError",
          "evalue": "ignored",
          "traceback": [
            "\u001b[0;31m---------------------------------------------------------------------------\u001b[0m",
            "\u001b[0;31mNameError\u001b[0m                                 Traceback (most recent call last)",
            "\u001b[0;32m<ipython-input-61-1d5f12a9359e>\u001b[0m in \u001b[0;36m<module>\u001b[0;34m\u001b[0m\n\u001b[0;32m----> 1\u001b[0;31m \u001b[0mk\u001b[0m\u001b[0;34m\u001b[0m\u001b[0;34m\u001b[0m\u001b[0m\n\u001b[0m\u001b[1;32m      2\u001b[0m \u001b[0ma\u001b[0m \u001b[0;34m=\u001b[0m \u001b[0;36m5\u001b[0m\u001b[0;34m\u001b[0m\u001b[0;34m\u001b[0m\u001b[0m\n\u001b[1;32m      3\u001b[0m \u001b[0mb\u001b[0m \u001b[0;34m=\u001b[0m \u001b[0;36m6\u001b[0m\u001b[0;34m\u001b[0m\u001b[0;34m\u001b[0m\u001b[0m\n\u001b[1;32m      4\u001b[0m \u001b[0mprint\u001b[0m\u001b[0;34m(\u001b[0m\u001b[0ma\u001b[0m\u001b[0;34m+\u001b[0m\u001b[0mb\u001b[0m\u001b[0;34m)\u001b[0m\u001b[0;34m\u001b[0m\u001b[0;34m\u001b[0m\u001b[0m\n",
            "\u001b[0;31mNameError\u001b[0m: name 'k' is not defined"
          ]
        }
      ]
    },
    {
      "cell_type": "code",
      "source": [
        "# We can do variable declaration like this\n",
        "k = None\n",
        "a = 5\n",
        "b = 6\n",
        "print(a+b)"
      ],
      "metadata": {
        "colab": {
          "base_uri": "https://localhost:8080/"
        },
        "id": "18t_Zj9uFNyp",
        "outputId": "0c391365-d55e-41a7-c765-f2226570f047"
      },
      "execution_count": null,
      "outputs": [
        {
          "output_type": "stream",
          "name": "stdout",
          "text": [
            "11\n"
          ]
        }
      ]
    }
  ]
}